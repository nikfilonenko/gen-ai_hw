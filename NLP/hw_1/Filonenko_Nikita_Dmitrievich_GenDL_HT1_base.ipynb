{
  "nbformat": 4,
  "nbformat_minor": 0,
  "metadata": {
    "colab": {
      "provenance": [],
      "gpuType": "T4"
    },
    "kernelspec": {
      "name": "python3",
      "display_name": "Python 3"
    },
    "language_info": {
      "name": "python"
    },
    "accelerator": "GPU"
  },
  "cells": [
    {
      "cell_type": "markdown",
      "source": [
        "# Выполнил: **Филоненко Никита Дмитриевич**"
      ],
      "metadata": {
        "id": "gd-EmI6l9N76"
      }
    },
    {
      "cell_type": "markdown",
      "metadata": {
        "id": "view-in-github"
      },
      "source": [
        "<a href=\"https://colab.research.google.com/github/NickKar30/GM-HSE-AI-masters-course/blob/main/Hometasks/Base/GenDL_HT1_base.ipynb\" target=\"_parent\"><img src=\"https://colab.research.google.com/assets/colab-badge.svg\" alt=\"Open In Colab\"/></a>"
      ]
    },
    {
      "cell_type": "markdown",
      "source": [
        "# Домашнее задание - 1 (базовая группа)\n",
        "\n",
        "В этом домашнем задании вы потренируетесь решать задачу speech-to-text.\n",
        "\n",
        "Вы не будете тренировать сложную архитектуру с нуля, а попробуете решить эту задачу, пройдя по пайплайну, в котором задача разбита на несколько простых шагов.\n",
        "\n",
        "- В этом задании мы призываем вас по-максимуму использовать документацию моделей и получить опыт написания кода без заготовок"
      ],
      "metadata": {
        "id": "wQ2DRg1TS_np"
      }
    },
    {
      "cell_type": "markdown",
      "source": [
        "![image.png](data:image/png;base64,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)"
      ],
      "metadata": {
        "id": "_p9lL-VPdDCo"
      }
    },
    {
      "cell_type": "code",
      "source": [
        "!pip install evaluate -q"
      ],
      "metadata": {
        "id": "LHP5e6rrEXzd"
      },
      "execution_count": null,
      "outputs": []
    },
    {
      "cell_type": "markdown",
      "source": [
        "## Шаг 1 (1 балл)\n",
        "\n",
        "* Возьмите датасет https://disk.yandex.ru/d/v2Hipv7XG4fEDQ, содержащий русскоязычные аудиозаписи\n",
        "\n",
        "* Примените модель [whisper-small](https://huggingface.co/openai/whisper-small) из HF для определения сказанного в аудио.\n",
        "\n",
        "* Выведите результат работы модели для 10 случайных аудио из датасета\n",
        "\n",
        "Не стесняйтесь пользоваться документацией и источниками знаний из интернета!"
      ],
      "metadata": {
        "id": "xJTV1KLsgF99"
      }
    },
    {
      "cell_type": "code",
      "source": [
        "from transformers import WhisperForConditionalGeneration, WhisperProcessor\n",
        "import torch\n",
        "import torchaudio\n",
        "\n",
        "# пересэмплируйте имеющиеся аудио в 16 kHz - пример кода ниже, можете его менять\n",
        "if sr != 16000:\n",
        "    wav = torchaudio.functional.resample(wav, orig_freq=sr, new_freq=16000)\n",
        "    sr = 16000\n",
        "\n",
        "# ваш код здесь\n",
        "\n",
        "# также вам может пригодиться установить распознавание русского языка как гиперпараметр whisper-small, так как наш датасет русскоязычный"
      ],
      "metadata": {
        "id": "GBIYfUYn0Ds5"
      },
      "execution_count": null,
      "outputs": []
    },
    {
      "cell_type": "markdown",
      "source": [
        "## Шаг 2 (1 балл)\n",
        "\n",
        "Текст распознается с ошибками.\n",
        "Попробуйте исправить ошибки с помощью готовой (предобученной) модели spell correction.\n",
        "\n",
        "Выведите на экран 10 текстов с предыдущего шага и их исправления с помощью модели https://huggingface.co/UrukHan/t5-russian-spell."
      ],
      "metadata": {
        "id": "6rrbQapLh7w5"
      }
    },
    {
      "cell_type": "code",
      "source": [
        "# ваш код здесь"
      ],
      "metadata": {
        "id": "6EJIcfzWL7Ox"
      },
      "execution_count": null,
      "outputs": []
    },
    {
      "cell_type": "markdown",
      "source": [
        "## Шаг 3 (2 балла)\n",
        "\n",
        "Соберите данные для дообучения модели выше. Для дообучения мы предлагаем вам использовать бесплатный api Groq: https://console.groq.com/docs/quickstart\n",
        "\n",
        "Разберитесь с тем как пользоваться api (мы немного поможем вам с этим кодом ниже) и с его помощью соберите датасет (можно в несколько запросов).\n",
        "\n",
        "- **0.5 балла** ставится за сбор датасета размером >1000 строк и сохранение в локальный файл/файлы\n",
        "\n",
        "- **еще 0.5 балла** ставится за [создание huggingface dataset](https://huggingface.co/docs/datasets/create_dataset) (через использование библиотек datasets и huggingface) и [сохранение собранного датасета напрямую в HuggingFace](https://huggingface.co/docs/datasets/upload_dataset)\n",
        "\n",
        "- **еще 1 балл** ставится за сбор датасета размером >1000 строк, на котором путем дообучения получится увеличить качество исправления опечаток в поставленной задаче (см. шаг 6) по сравнению с качеством прогноза той же, но предобученной модели\n",
        "\n",
        "P.S. Если у Вас нет VPN, то можете воспользоваться другой LLM на Ваш выбор (можно, например, этим https://ollama.com/)."
      ],
      "metadata": {
        "id": "xpXtmy6GiDk3"
      }
    },
    {
      "cell_type": "code",
      "source": [
        "# зайдите на страницу и создайте API KEY: https://console.groq.com/keys - возможно, понадобится включить VPN\n",
        "\n",
        "import os\n",
        "\n",
        "os.environ[\"GROQ_API_KEY\"] = <YOUR API KEY>"
      ],
      "metadata": {
        "id": "yeWbkBn5X_xN"
      },
      "execution_count": null,
      "outputs": []
    },
    {
      "cell_type": "code",
      "source": [
        "!pip install groq"
      ],
      "metadata": {
        "id": "6wFDutyDXiOT"
      },
      "execution_count": null,
      "outputs": []
    },
    {
      "cell_type": "code",
      "source": [
        "import os\n",
        "from groq import Groq\n",
        "\n",
        "client = Groq(api_key=os.environ.get(\"GROQ_API_KEY\"))\n",
        "\n",
        "response = client.chat.completions.create(\n",
        "    messages=[{\"role\": \"user\", \"content\": <YOUR PROMPT>}],\n",
        "#    model=\"llama-3.3-70b-versatile\",\n",
        "    model=\"DeepSeek-R1-Distill-Llama-70B\",\n",
        ")\n",
        "\n",
        "print(response.choices[0].message.content)"
      ],
      "metadata": {
        "id": "xFysbIIfX6Nw"
      },
      "execution_count": null,
      "outputs": []
    },
    {
      "cell_type": "code",
      "source": [
        "# Ваш код для подключения к Groq и промпты"
      ],
      "metadata": {
        "id": "Fyp_fo1dcEWm"
      },
      "execution_count": null,
      "outputs": []
    },
    {
      "cell_type": "code",
      "source": [
        "# Сохраните собранный датасет в файл и прикрепите сюда ссылку на него"
      ],
      "metadata": {
        "id": "XlLM-HIXiNbJ"
      },
      "execution_count": null,
      "outputs": []
    },
    {
      "cell_type": "markdown",
      "source": [
        "## Шаг 4 (2 балла)\n",
        "\n",
        "Дообучите модель выше или любую другую модель, которая вам нравится, на собранных данных и протестируйте ее на нескольких ошибочно распознанных whisper-small моделью аудио. Дообучение мы разбирали на семинаре - можете посмотреть, как мы это делали там.\n",
        "\n",
        "Для оценки качества результата выведите на экран 10 текстов с предыдущего шага и их исправления с помощью модели.\n",
        "\n",
        "- Вы можете воспользовать структурой, предложенной в ячейке ниже, а можете написать код по-своему."
      ],
      "metadata": {
        "id": "tg9OoCu1iPkG"
      }
    },
    {
      "cell_type": "code",
      "source": [
        "!pip install --upgrade transformers datasets"
      ],
      "metadata": {
        "id": "NrE_Ono2OK_J"
      },
      "execution_count": null,
      "outputs": []
    },
    {
      "cell_type": "code",
      "source": [
        "import torch\n",
        "from datasets import load_dataset\n",
        "from transformers import AutoTokenizer, AutoModelForSeq2SeqLM, DataCollatorForSeq2Seq, Seq2SeqTrainer, Seq2SeqTrainingArguments\n",
        "\n",
        "# Модель\n",
        "...\n",
        "\n",
        "# Загружаем свой CSV с парами (input → target)\n",
        "...\n",
        "\n",
        "# Токенизация\n",
        "...\n",
        "\n",
        "# Data collator\n",
        "...\n",
        "\n",
        "# Аргументы обучения\n",
        "training_args = Seq2SeqTrainingArguments(...)\n",
        "\n",
        "# Trainer\n",
        "trainer = Seq2SeqTrainer(...)\n",
        "\n",
        "# Запускаем обучение\n",
        "trainer.train()\n",
        "\n",
        "# Сохраняем дообученную модель\n",
        "trainer.save_model(\"...\")\n",
        "tokenizer.save_pretrained(\"...\")"
      ],
      "metadata": {
        "id": "3AdSsx1SgAXr"
      },
      "execution_count": null,
      "outputs": []
    },
    {
      "cell_type": "markdown",
      "source": [
        "Примените дообученную модель. Как раз здесь для оценки качества результата выведите на экран 10 текстов с предыдущего шага и их исправления с помощью модели."
      ],
      "metadata": {
        "id": "rnPx1UTMf6lQ"
      }
    },
    {
      "cell_type": "code",
      "source": [
        "from transformers import AutoTokenizer, AutoModelForSeq2SeqLM\n",
        "\n",
        "# Загружаем дообученную модель\n",
        "model_path = \"...\"\n",
        "tokenizer = AutoTokenizer.from_pretrained(model_path)\n",
        "model = AutoModelForSeq2SeqLM.from_pretrained(model_path)\n",
        "\n",
        "# Применение модели к 10 примерам\n",
        "..."
      ],
      "metadata": {
        "id": "-uVrL7hHgr-8"
      },
      "execution_count": null,
      "outputs": []
    },
    {
      "cell_type": "markdown",
      "source": [
        "## Шаг 5 (1 балл)\n",
        "\n",
        "Время считать метрики и возвращаться к дообучению модели по необходимости. В этом шаге мы оцениваем только выполнение задания, а не значения метрик.\n",
        "\n",
        "a) [Здесь](https://disk.yandex.ru/d/SPJU3lCt_cMDcw) лежат правильные ответы почти на все аудио - считайте метрики только для аудио, для которых мы дали вам ответы. Посчитайте [WER](https://docs.pytorch.org/torcheval/main/generated/torcheval.metrics.WordErrorRate.html) для модели whisper-small.\n",
        "\n",
        "б) Посчитайте WER для whisper-small + исправление опечаток предобученной моделью (модель выберите самостоятельно!)\n",
        "\n",
        "в) Посчитайте WER для whisper-small + дообученная Вами модель (данные для дообучения и модель выберите самостоятельно!)"
      ],
      "metadata": {
        "id": "5tnKOwwAjNsF"
      }
    },
    {
      "cell_type": "code",
      "source": [
        "# ваш код здесь"
      ],
      "metadata": {
        "id": "8Ik_jNo2jNzC"
      },
      "execution_count": null,
      "outputs": []
    },
    {
      "cell_type": "markdown",
      "source": [
        "## Шаг 6 (3 балла)\n",
        "\n",
        "В этом шаге предлагаем вам провести максимум рисерча и экспериментов для наиболее качественного решения задачи (в бесплатном google colab, без привлечения дополнительных мощностей)\n",
        "\n",
        "* Поищите предобученные модели, применение которых для задачи speech-to-text дает меньше опечаток (меньше WER)\n",
        "\n",
        "* Протестируйте несколько spell-correction моделей и сделайте выводы какая из них лучше (с точки зрения WER)\n",
        "\n",
        "* Возьмите лучшую из найденных моделей и попытайтесь улучшить ее через шаг 4, как делали ранее. Попробуйте немного изменить обучение в шаге 4, чтобы добиться еще более хороших результатов (изменить данные/гиперпараметры и т.п.) и проведите соответствующий эксперимент. Объясните почему ваша модификация шага 4 теоретически может улучшить результаты и сделайте выводы о том, получилось ли улучшить качество (если нет, то предположите почему)."
      ],
      "metadata": {
        "id": "_sUQNgLjj4lQ"
      }
    },
    {
      "cell_type": "code",
      "source": [
        "# ваши эксперименты здесь"
      ],
      "metadata": {
        "id": "W1oi72ysj9ao"
      },
      "execution_count": null,
      "outputs": []
    }
  ]
}